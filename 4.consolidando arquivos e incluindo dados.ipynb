{
 "cells": [
  {
   "cell_type": "code",
   "execution_count": 4,
   "metadata": {},
   "outputs": [],
   "source": [
    "import pandas as pd\n",
    "import os"
   ]
  },
  {
   "cell_type": "code",
   "execution_count": 5,
   "metadata": {},
   "outputs": [],
   "source": [
    "# Directório dos arquivos Excel\n",
    "directorio = (r\"C:\\Users\\kbfcc\\Desktop\\Curso Analista de Dados\\2 - Python ETL\\Aulas\\Arquivos\\Consolidar\")\n",
    "\n",
    "# Lista para armazenar os dados dos arquivos\n",
    "dados = []\n",
    "\n",
    "# Iterar sobre os arquivos Excel no directório\n",
    "for arquivo in os.listdir(directorio):\n",
    "    if arquivo.endswith('.xlsx'):\n",
    "        caminho_arquivo = os.path.join(directorio, arquivo)\n",
    "        df = pd.read_excel(caminho_arquivo)\n",
    "        dados.append(df)\n",
    "\n",
    "# Consolidar os dados em um único Dataframe\n",
    "consolidado = pd.concat(dados)\n",
    "#consolidado"
   ]
  },
  {
   "cell_type": "markdown",
   "metadata": {},
   "source": [
    "### Verificar se o arquivo já existe e adicionar no final"
   ]
  },
  {
   "cell_type": "code",
   "execution_count": 6,
   "metadata": {},
   "outputs": [],
   "source": [
    "# Caminho da pasta onde será salvo o arquivo Excel\n",
    "pasta_destino = r\"C:\\Users\\kbfcc\\Desktop\\Curso Analista de Dados\\2 - Python ETL\\Aulas\\Arquivos\\Arquivos consolidados\\\\\"\n",
    "\n",
    "# Nome do arquivo Excel (variável)\n",
    "nome_arquivo = 'vendasGeraisteste.xlsx'\n",
    "\n",
    "# Caminho completo do arquivo Excel\n",
    "caminho_completo = pasta_destino + nome_arquivo\n",
    "\n",
    "if os.path.exists(caminho_completo):\n",
    "    # Carregar o arquivo Excel consolidado existente em um DataFrame\n",
    "    df_existente = pd.read_excel(caminho_completo)\n",
    "    # Adicionar os dados existentes ao DataFrame consolidado\n",
    "    dados.append(df_existente)\n",
    "\n",
    "# Consolidar os dados em um único DataFrame\n",
    "consolidadoExcel = pd.concat(dados)\n",
    "\n",
    "# Salvar o DataFrame consolidado como arquivo Excel\n",
    "consolidadoExcel.to_excel(caminho_completo, index=False)"
   ]
  }
 ],
 "metadata": {
  "kernelspec": {
   "display_name": "Teste",
   "language": "python",
   "name": "python3"
  },
  "language_info": {
   "codemirror_mode": {
    "name": "ipython",
    "version": 3
   },
   "file_extension": ".py",
   "mimetype": "text/x-python",
   "name": "python",
   "nbconvert_exporter": "python",
   "pygments_lexer": "ipython3",
   "version": "3.11.4"
  }
 },
 "nbformat": 4,
 "nbformat_minor": 2
}
