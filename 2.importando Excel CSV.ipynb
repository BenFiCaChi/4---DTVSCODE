{
 "cells": [
  {
   "cell_type": "code",
   "execution_count": null,
   "metadata": {},
   "outputs": [],
   "source": [
    "\"\"\"\n",
    "pip install pandas\n",
    "pip install --upgrade pandas\n",
    "\"\"\""
   ]
  },
  {
   "cell_type": "code",
   "execution_count": null,
   "metadata": {},
   "outputs": [],
   "source": [
    "import pandas as pd # type: ignore"
   ]
  },
  {
   "cell_type": "code",
   "execution_count": null,
   "metadata": {},
   "outputs": [],
   "source": [
    "df = pd.read_csv(r\"C:\\Users\\kbfcc\\Desktop\\Curso Analista de Dados\\2 - Python ETL\\Aulas\\Arquivos\\Arquivos Csv\\Clientes.csv\", delimiter=',')\n",
    "df.head(30)"
   ]
  },
  {
   "cell_type": "code",
   "execution_count": null,
   "metadata": {},
   "outputs": [],
   "source": [
    "# Filtrar 1 item específico de uma coluna\n",
    "estado = df.loc[df['state'] == 'Mato Grosso']\n",
    "estado"
   ]
  },
  {
   "cell_type": "code",
   "execution_count": null,
   "metadata": {},
   "outputs": [],
   "source": [
    "# Escolher estados específicos\n",
    "estados = ['Rio de Janeiro', 'Ceará', 'Rondônia', 'Bahia']\n",
    "Df_estados = df.loc[df['state'].isin(estados)]\n",
    "Df_estados.head()"
   ]
  },
  {
   "cell_type": "code",
   "execution_count": null,
   "metadata": {},
   "outputs": [],
   "source": [
    "Df_estados2 = df.loc[df['state'].isin(['Rio de Janeiro', 'Ceará', 'Rondônia', 'Bahia'])]\n",
    "Df_estados2"
   ]
  },
  {
   "cell_type": "markdown",
   "metadata": {},
   "source": [
    "##### Tratando Nulos"
   ]
  },
  {
   "cell_type": "code",
   "execution_count": null,
   "metadata": {},
   "outputs": [],
   "source": [
    "df"
   ]
  },
  {
   "cell_type": "code",
   "execution_count": null,
   "metadata": {},
   "outputs": [],
   "source": [
    "# Substituir valores nulos\n",
    "df['street'] =          df['street'].fillna('Não Registrado')\n",
    "df['email'] =           df['email'].fillna('E-mail não Cadastrado')\n",
    "df['number'] =          df['number'].fillna('Sem Número')\n",
    "df['additionals'] =     df['additionals'].fillna('Sem Info')\n",
    "df"
   ]
  },
  {
   "cell_type": "markdown",
   "metadata": {},
   "source": [
    "##### Método Replace"
   ]
  },
  {
   "cell_type": "code",
   "execution_count": null,
   "metadata": {},
   "outputs": [],
   "source": [
    "# Substituindo os nomes dos estados no DataFrame\n",
    "\"\"\"\n",
    "df['Coluna'] = df['Coluna'].replace(valor_original, valor_substituído)\n",
    "\"\"\""
   ]
  },
  {
   "cell_type": "code",
   "execution_count": null,
   "metadata": {},
   "outputs": [],
   "source": [
    "df['state'] = df['state'].replace('São Paulo', 'Sao Paulo')\n",
    "df"
   ]
  },
  {
   "cell_type": "code",
   "execution_count": null,
   "metadata": {},
   "outputs": [],
   "source": [
    "df['state'] = df['state'].replace('Sao Paulo', 'SP')\n",
    "df['state'] = df['state'].replace('Acre', 'AC')\n",
    "df['state'] = df['state'].replace('Distrito Federal', 'DF')\n",
    "df.head(20)"
   ]
  },
  {
   "cell_type": "code",
   "execution_count": null,
   "metadata": {},
   "outputs": [],
   "source": [
    "# Fazendo a substituição de um valor específico\n",
    "valor_original = 'São Paulo'\n",
    "valor_substituto = 'SP'\n",
    "df['state'] = df['state'].replace(valor_original, valor_substituto)\n",
    "df.head(20)"
   ]
  },
  {
   "cell_type": "code",
   "execution_count": null,
   "metadata": {},
   "outputs": [],
   "source": [
    "# Mapeando os nomes dos estados para substituição\n",
    "# Obs: itens criados entre chaves {} significa dicionário\n",
    "mapeamento = {'Maranhão': 'Maranhao', 'Piauí': 'Piaui', 'Goiás': 'Goias' }\n",
    "\n",
    "# Substituindo on nomes dos estados no DataFrame\n",
    "df['state'] = df['state'].replace(mapeamento)\n",
    "\n",
    "df.head(10)\n"
   ]
  }
 ],
 "metadata": {
  "kernelspec": {
   "display_name": "Teste",
   "language": "python",
   "name": "python3"
  },
  "language_info": {
   "codemirror_mode": {
    "name": "ipython",
    "version": 3
   },
   "file_extension": ".py",
   "mimetype": "text/x-python",
   "name": "python",
   "nbconvert_exporter": "python",
   "pygments_lexer": "ipython3",
   "version": "3.11.4"
  }
 },
 "nbformat": 4,
 "nbformat_minor": 2
}
