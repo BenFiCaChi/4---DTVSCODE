{
 "cells": [
  {
   "cell_type": "code",
   "execution_count": null,
   "metadata": {},
   "outputs": [],
   "source": [
    "\"\"\"\n",
    "pip install pandas\n",
    "pip install --upgrade pandas\n",
    "\"\"\""
   ]
  },
  {
   "cell_type": "code",
   "execution_count": null,
   "metadata": {},
   "outputs": [],
   "source": [
    "import pandas as pd"
   ]
  },
  {
   "cell_type": "code",
   "execution_count": null,
   "metadata": {},
   "outputs": [],
   "source": [
    "dfP = pd.read_excel(r\"C:\\Users\\kbfcc\\Desktop\\Curso Analista de Dados\\2 - Python ETL\\Aulas\\Arquivos\\Arquivos Excel\\Produto.xlsx\")\n",
    "#dfC = pd.read_excel(r\"C:\\Users\\kbfcc\\Desktop\\Curso Analista de Dados\\2 - Python ETL\\Aulas\\Arquivos\\Arquivos Excel\\Categoria.xlsx\")\n",
    "dfP.head()\n",
    "#dfC.head()"
   ]
  },
  {
   "cell_type": "code",
   "execution_count": null,
   "metadata": {},
   "outputs": [],
   "source": [
    "# df_calca = df.loc[df['coluna] == 'Calça'] localizar 1 item específico de uma coluna\n",
    "df_calca = dfP.loc[dfP['Name'] == 'Calça']\n",
    "df_calca"
   ]
  },
  {
   "cell_type": "code",
   "execution_count": null,
   "metadata": {},
   "outputs": [],
   "source": [
    "itens = ['Calça', 'TV', 'Perfume', 'Fogão']\n",
    "df_itens = dfP.loc[dfP['Name'].isin(itens)]\n",
    "df_itens"
   ]
  },
  {
   "cell_type": "code",
   "execution_count": null,
   "metadata": {},
   "outputs": [],
   "source": [
    "df_itens2 = dfP.loc[dfP['Name'].isin(['Calça', 'Perfume', 'Sapato vermelho'])]\n",
    "df_itens2"
   ]
  },
  {
   "cell_type": "code",
   "execution_count": null,
   "metadata": {},
   "outputs": [],
   "source": [
    "# Localizar valor > que valor escolhido\n",
    "dfMais100 = dfP.loc[dfP['Price'] > 1000]\n",
    "#dfMais100\n",
    "dfMais100.head()"
   ]
  },
  {
   "cell_type": "code",
   "execution_count": null,
   "metadata": {},
   "outputs": [],
   "source": [
    "df200a1000 = dfP.loc[(dfP['Price'] > 200) & (dfP['Price'] <= 1000)]\n",
    "df200a1000\n",
    "#df200a1000.head(2)"
   ]
  }
 ],
 "metadata": {
  "kernelspec": {
   "display_name": "Teste",
   "language": "python",
   "name": "python3"
  },
  "language_info": {
   "codemirror_mode": {
    "name": "ipython",
    "version": 3
   },
   "file_extension": ".py",
   "mimetype": "text/x-python",
   "name": "python",
   "nbconvert_exporter": "python",
   "pygments_lexer": "ipython3",
   "version": "3.11.4"
  }
 },
 "nbformat": 4,
 "nbformat_minor": 2
}
