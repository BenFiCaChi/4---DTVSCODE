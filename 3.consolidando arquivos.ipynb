{
 "cells": [
  {
   "cell_type": "code",
   "execution_count": null,
   "metadata": {},
   "outputs": [],
   "source": [
    "import pandas as pd\n",
    "import os"
   ]
  },
  {
   "cell_type": "code",
   "execution_count": null,
   "metadata": {},
   "outputs": [],
   "source": [
    "vendas2021 = pd.read_excel(r\"C:\\Users\\kbfcc\\Desktop\\Curso Analista de Dados\\2 - Python ETL\\Aulas\\Arquivos\\Consolidar\\Vendas2021.xlsx\")\n",
    "vendas2022 = pd.read_excel(r\"C:\\Users\\kbfcc\\Desktop\\Curso Analista de Dados\\2 - Python ETL\\Aulas\\Arquivos\\Consolidar\\Vendas2022.xlsx\")\n",
    "vendas2023 = pd.read_excel(r\"C:\\Users\\kbfcc\\Desktop\\Curso Analista de Dados\\2 - Python ETL\\Aulas\\Arquivos\\Consolidar\\Vendas2023.xlsx\")"
   ]
  },
  {
   "cell_type": "code",
   "execution_count": null,
   "metadata": {},
   "outputs": [],
   "source": [
    "vendas2021.head(3)"
   ]
  },
  {
   "cell_type": "code",
   "execution_count": null,
   "metadata": {},
   "outputs": [],
   "source": [
    "vendas2022.head(3)"
   ]
  },
  {
   "cell_type": "code",
   "execution_count": null,
   "metadata": {},
   "outputs": [],
   "source": [
    "vendas2023.head(3)"
   ]
  },
  {
   "cell_type": "markdown",
   "metadata": {},
   "source": [
    "### Consolodando arquivos de uma pasta"
   ]
  },
  {
   "cell_type": "code",
   "execution_count": null,
   "metadata": {},
   "outputs": [],
   "source": [
    "# Directório dos arquivos Excel\n",
    "directorio = (r\"C:\\Users\\kbfcc\\Desktop\\Curso Analista de Dados\\2 - Python ETL\\Aulas\\Arquivos\\Consolidar\")\n",
    "\n",
    "# Lista para armazenar os dados dos arquivos\n",
    "dados = []\n",
    "\n",
    "# Iterar sobre os arquivos Excel no directório\n",
    "for arquivo in os.listdir(directorio):\n",
    "    if arquivo.endswith('xlsx'):\n",
    "        caminho_arquivo = os.path.join(directorio, arquivo)\n",
    "        df = pd.read_excel(caminho_arquivo)\n",
    "        dados.append(df)\n",
    "\n",
    "# Consolidar os dados em um único DataFrame\n",
    "consolidado = pd.concat(dados)\n",
    "consolidado"
   ]
  },
  {
   "cell_type": "markdown",
   "metadata": {},
   "source": [
    "### Salvando consolidado em uma pasta específica Formato Excel"
   ]
  },
  {
   "cell_type": "code",
   "execution_count": null,
   "metadata": {},
   "outputs": [],
   "source": [
    "# Caminho da pasta onde será salvo o aquivo Excel\n",
    "pasta_destino = r\"C:\\Users\\kbfcc\\Desktop\\Curso Analista de Dados\\2 - Python ETL\\Aulas\\Arquivos\\Arquivos consolidados\\\\\"\n",
    "\n",
    "# Nome do arquivo Excel (variável)\n",
    "nome_arquivo = 'vendasGerais.xlsx'\n",
    "\n",
    "# Caminho completo do arquivo Excel\n",
    "caminho_completo = pasta_destino + nome_arquivo\n",
    "\n",
    "# Salvar o DataFrame como arquivo Excel\n",
    "consolidado.to_excel(caminho_completo, index=False)"
   ]
  },
  {
   "cell_type": "markdown",
   "metadata": {},
   "source": [
    "### Salvando consolidado em uma pasta específica Formato CSV"
   ]
  },
  {
   "cell_type": "code",
   "execution_count": null,
   "metadata": {},
   "outputs": [],
   "source": [
    "# Caminho específico onde será salvo o arquivo CSV\n",
    "pasta_destino =  r\"C:\\\\Users\\\\kbfcc\\\\Desktop\\\\Curso Analista de Dados\\\\2 - Python ETL\\\\Aulas\\\\Arquivos\\\\Arquivos consolidados\\\\\"\n",
    "\n",
    "# Nome do arquivo CSV (variável)\n",
    "nome_arquivo = 'vendasGerais.csv'\n",
    "\n",
    "# Caminho completo do arquivo CSV\n",
    "caminho_completo = pasta_destino + nome_arquivo\n",
    "\n",
    "# Salvar o DataFrame como arquivo CSV\n",
    "consolidado.to_csv(caminho_completo, index=False, sep=',')\n"
   ]
  },
  {
   "cell_type": "markdown",
   "metadata": {},
   "source": [
    "### Salvando consolidado em uma pasta específica Formato TXT"
   ]
  },
  {
   "cell_type": "code",
   "execution_count": null,
   "metadata": {},
   "outputs": [],
   "source": [
    "# Caminho específico onde será salvo o arquivo TXT\n",
    "pasta_destino =  r\"C:\\\\Users\\\\kbfcc\\\\Desktop\\\\Curso Analista de Dados\\\\2 - Python ETL\\\\Aulas\\\\Arquivos\\\\Arquivos consolidados\\\\\"\n",
    "\n",
    "# Nome do arquivo TXT (variável)\n",
    "nome_arquivo = 'vendasGerais.txt'\n",
    "\n",
    "# Caminho completo do arquivo TXT\n",
    "caminho_completo = pasta_destino + nome_arquivo\n",
    "\n",
    "# Salvar o DataFrame como arquivo TXT\n",
    "consolidado.to_csv(caminho_completo, index=False, sep=',')"
   ]
  }
 ],
 "metadata": {
  "kernelspec": {
   "display_name": "Teste",
   "language": "python",
   "name": "python3"
  },
  "language_info": {
   "codemirror_mode": {
    "name": "ipython",
    "version": 3
   },
   "file_extension": ".py",
   "mimetype": "text/x-python",
   "name": "python",
   "nbconvert_exporter": "python",
   "pygments_lexer": "ipython3",
   "version": "3.11.4"
  }
 },
 "nbformat": 4,
 "nbformat_minor": 2
}
